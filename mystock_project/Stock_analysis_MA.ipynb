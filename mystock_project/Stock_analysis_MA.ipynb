{
 "cells": [
  {
   "cell_type": "markdown",
   "id": "c4da016c-8ab6-48fd-b983-994b50c6abe4",
   "metadata": {},
   "source": [
    "**STocks_prediction_2024**"
   ]
  },
  {
   "cell_type": "code",
   "execution_count": 27,
   "id": "a385d625-da94-4c4a-96f1-38d5ddf6cd25",
   "metadata": {},
   "outputs": [],
   "source": [
    "#import dependencies\n",
    "import numpy as np \n",
    "import pandas as pd\n",
    "import matplotlib.pyplot as plt\n",
    "import yfinance as yf"
   ]
  },
  {
   "cell_type": "code",
   "execution_count": 28,
   "id": "95138e6e-9d18-402b-8d44-3da6dbfc5aa0",
   "metadata": {},
   "outputs": [
    {
     "name": "stderr",
     "output_type": "stream",
     "text": [
      "[*********************100%***********************]  1 of 1 completed\n"
     ]
    }
   ],
   "source": [
    "start ='2010-01-01'\n",
    "end='2024-10-30'\n",
    "\n",
    "stock= \"TSLA\"\n",
    "data= yf.download(stock,start,end)\n"
   ]
  },
  {
   "cell_type": "code",
   "execution_count": 29,
   "id": "b52c7c98-e5d7-4140-9992-150cff1850f4",
   "metadata": {},
   "outputs": [
    {
     "data": {
      "text/html": [
       "<div>\n",
       "<style scoped>\n",
       "    .dataframe tbody tr th:only-of-type {\n",
       "        vertical-align: middle;\n",
       "    }\n",
       "\n",
       "    .dataframe tbody tr th {\n",
       "        vertical-align: top;\n",
       "    }\n",
       "\n",
       "    .dataframe thead tr th {\n",
       "        text-align: left;\n",
       "    }\n",
       "</style>\n",
       "<table border=\"1\" class=\"dataframe\">\n",
       "  <thead>\n",
       "    <tr>\n",
       "      <th>Price</th>\n",
       "      <th>Date</th>\n",
       "      <th>Adj Close</th>\n",
       "      <th>Close</th>\n",
       "      <th>High</th>\n",
       "      <th>Low</th>\n",
       "      <th>Open</th>\n",
       "      <th>Volume</th>\n",
       "    </tr>\n",
       "    <tr>\n",
       "      <th>Ticker</th>\n",
       "      <th></th>\n",
       "      <th>TSLA</th>\n",
       "      <th>TSLA</th>\n",
       "      <th>TSLA</th>\n",
       "      <th>TSLA</th>\n",
       "      <th>TSLA</th>\n",
       "      <th>TSLA</th>\n",
       "    </tr>\n",
       "  </thead>\n",
       "  <tbody>\n",
       "    <tr>\n",
       "      <th>0</th>\n",
       "      <td>2010-06-29</td>\n",
       "      <td>1.592667</td>\n",
       "      <td>1.592667</td>\n",
       "      <td>1.666667</td>\n",
       "      <td>1.169333</td>\n",
       "      <td>1.266667</td>\n",
       "      <td>281494500</td>\n",
       "    </tr>\n",
       "    <tr>\n",
       "      <th>1</th>\n",
       "      <td>2010-06-30</td>\n",
       "      <td>1.588667</td>\n",
       "      <td>1.588667</td>\n",
       "      <td>2.028000</td>\n",
       "      <td>1.553333</td>\n",
       "      <td>1.719333</td>\n",
       "      <td>257806500</td>\n",
       "    </tr>\n",
       "    <tr>\n",
       "      <th>2</th>\n",
       "      <td>2010-07-01</td>\n",
       "      <td>1.464000</td>\n",
       "      <td>1.464000</td>\n",
       "      <td>1.728000</td>\n",
       "      <td>1.351333</td>\n",
       "      <td>1.666667</td>\n",
       "      <td>123282000</td>\n",
       "    </tr>\n",
       "    <tr>\n",
       "      <th>3</th>\n",
       "      <td>2010-07-02</td>\n",
       "      <td>1.280000</td>\n",
       "      <td>1.280000</td>\n",
       "      <td>1.540000</td>\n",
       "      <td>1.247333</td>\n",
       "      <td>1.533333</td>\n",
       "      <td>77097000</td>\n",
       "    </tr>\n",
       "    <tr>\n",
       "      <th>4</th>\n",
       "      <td>2010-07-06</td>\n",
       "      <td>1.074000</td>\n",
       "      <td>1.074000</td>\n",
       "      <td>1.333333</td>\n",
       "      <td>1.055333</td>\n",
       "      <td>1.333333</td>\n",
       "      <td>103003500</td>\n",
       "    </tr>\n",
       "    <tr>\n",
       "      <th>...</th>\n",
       "      <td>...</td>\n",
       "      <td>...</td>\n",
       "      <td>...</td>\n",
       "      <td>...</td>\n",
       "      <td>...</td>\n",
       "      <td>...</td>\n",
       "      <td>...</td>\n",
       "    </tr>\n",
       "    <tr>\n",
       "      <th>3604</th>\n",
       "      <td>2024-10-23</td>\n",
       "      <td>213.649994</td>\n",
       "      <td>213.649994</td>\n",
       "      <td>218.720001</td>\n",
       "      <td>212.110001</td>\n",
       "      <td>217.130005</td>\n",
       "      <td>80938900</td>\n",
       "    </tr>\n",
       "    <tr>\n",
       "      <th>3605</th>\n",
       "      <td>2024-10-24</td>\n",
       "      <td>260.480011</td>\n",
       "      <td>260.480011</td>\n",
       "      <td>262.119995</td>\n",
       "      <td>242.649994</td>\n",
       "      <td>244.679993</td>\n",
       "      <td>204491900</td>\n",
       "    </tr>\n",
       "    <tr>\n",
       "      <th>3606</th>\n",
       "      <td>2024-10-25</td>\n",
       "      <td>269.190002</td>\n",
       "      <td>269.190002</td>\n",
       "      <td>269.489990</td>\n",
       "      <td>255.320007</td>\n",
       "      <td>256.010010</td>\n",
       "      <td>161611900</td>\n",
       "    </tr>\n",
       "    <tr>\n",
       "      <th>3607</th>\n",
       "      <td>2024-10-28</td>\n",
       "      <td>262.510010</td>\n",
       "      <td>262.510010</td>\n",
       "      <td>273.540009</td>\n",
       "      <td>262.239990</td>\n",
       "      <td>270.000000</td>\n",
       "      <td>107653600</td>\n",
       "    </tr>\n",
       "    <tr>\n",
       "      <th>3608</th>\n",
       "      <td>2024-10-29</td>\n",
       "      <td>259.519989</td>\n",
       "      <td>259.519989</td>\n",
       "      <td>264.980011</td>\n",
       "      <td>255.509995</td>\n",
       "      <td>264.510010</td>\n",
       "      <td>80521800</td>\n",
       "    </tr>\n",
       "  </tbody>\n",
       "</table>\n",
       "<p>3609 rows × 7 columns</p>\n",
       "</div>"
      ],
      "text/plain": [
       "Price        Date   Adj Close       Close        High         Low        Open  \\\n",
       "Ticker                   TSLA        TSLA        TSLA        TSLA        TSLA   \n",
       "0      2010-06-29    1.592667    1.592667    1.666667    1.169333    1.266667   \n",
       "1      2010-06-30    1.588667    1.588667    2.028000    1.553333    1.719333   \n",
       "2      2010-07-01    1.464000    1.464000    1.728000    1.351333    1.666667   \n",
       "3      2010-07-02    1.280000    1.280000    1.540000    1.247333    1.533333   \n",
       "4      2010-07-06    1.074000    1.074000    1.333333    1.055333    1.333333   \n",
       "...           ...         ...         ...         ...         ...         ...   \n",
       "3604   2024-10-23  213.649994  213.649994  218.720001  212.110001  217.130005   \n",
       "3605   2024-10-24  260.480011  260.480011  262.119995  242.649994  244.679993   \n",
       "3606   2024-10-25  269.190002  269.190002  269.489990  255.320007  256.010010   \n",
       "3607   2024-10-28  262.510010  262.510010  273.540009  262.239990  270.000000   \n",
       "3608   2024-10-29  259.519989  259.519989  264.980011  255.509995  264.510010   \n",
       "\n",
       "Price      Volume  \n",
       "Ticker       TSLA  \n",
       "0       281494500  \n",
       "1       257806500  \n",
       "2       123282000  \n",
       "3        77097000  \n",
       "4       103003500  \n",
       "...           ...  \n",
       "3604     80938900  \n",
       "3605    204491900  \n",
       "3606    161611900  \n",
       "3607    107653600  \n",
       "3608     80521800  \n",
       "\n",
       "[3609 rows x 7 columns]"
      ]
     },
     "execution_count": 29,
     "metadata": {},
     "output_type": "execute_result"
    }
   ],
   "source": [
    "data.reset_index(inplace=True)\n",
    "data"
   ]
  },
  {
   "cell_type": "markdown",
   "id": "2e88a566-464e-4335-8e86-88575e034bf2",
   "metadata": {},
   "source": [
    "**MOving_Average_100Day**\n"
   ]
  },
  {
   "cell_type": "code",
   "execution_count": 30,
   "id": "451f391a-dc3a-4ac5-a6f3-17c52c740bb7",
   "metadata": {},
   "outputs": [],
   "source": [
    "ma_100_d =data.Close.rolling(160).mean()\n"
   ]
  },
  {
   "cell_type": "code",
   "execution_count": 31,
   "id": "d8568ec6-e36a-42b8-8000-03ffd2ea70d4",
   "metadata": {},
   "outputs": [
    {
     "data": {
      "image/png": "[encoded data removed]",
      "text/plain": [
       "<Figure size 800x600 with 1 Axes>"
      ]
     },
     "metadata": {},
     "output_type": "display_data"
    }
   ],
   "source": [
    "plt.figure(figsize=(8,6))\n",
    "plt.plot(ma_100_d, 'r')\n",
    "plt.plot(data.Close,'g')\n",
    "plt.show()"
   ]
  },
  {
   "cell_type": "code",
   "execution_count": 32,
   "id": "2b925cce-0f51-445c-99c2-348c5a768400",
   "metadata": {},
   "outputs": [],
   "source": [
    "ma_200_d =data.Close.rolling(200).mean()\n"
   ]
  },
  {
   "cell_type": "code",
   "execution_count": 33,
   "id": "ab09c825-9da2-4c17-bc7b-e6d263c24a49",
   "metadata": {},
   "outputs": [
    {
     "data": {
      "image/png": "[encoded data removed]",
      "text/plain": [
       "<Figure size 800x600 with 1 Axes>"
      ]
     },
     "metadata": {},
     "output_type": "display_data"
    }
   ],
   "source": [
    "plt.figure(figsize=(8,6))\n",
    "plt.plot(ma_100_d ,'r')\n",
    "plt.plot(ma_200_d ,'b')\n",
    "plt.plot(data.Close,'g')\n",
    "plt.show()\n",
    "\n"
   ]
  },
  {
   "cell_type": "code",
   "execution_count": 34,
   "id": "24a3cf48-5ba2-4454-8397-59a072ca677d",
   "metadata": {},
   "outputs": [
    {
     "data": {
      "text/html": [
       "<div>\n",
       "<style scoped>\n",
       "    .dataframe tbody tr th:only-of-type {\n",
       "        vertical-align: middle;\n",
       "    }\n",
       "\n",
       "    .dataframe tbody tr th {\n",
       "        vertical-align: top;\n",
       "    }\n",
       "\n",
       "    .dataframe thead tr th {\n",
       "        text-align: left;\n",
       "    }\n",
       "</style>\n",
       "<table border=\"1\" class=\"dataframe\">\n",
       "  <thead>\n",
       "    <tr>\n",
       "      <th>Price</th>\n",
       "      <th>Date</th>\n",
       "      <th>Adj Close</th>\n",
       "      <th>Close</th>\n",
       "      <th>High</th>\n",
       "      <th>Low</th>\n",
       "      <th>Open</th>\n",
       "      <th>Volume</th>\n",
       "    </tr>\n",
       "    <tr>\n",
       "      <th>Ticker</th>\n",
       "      <th></th>\n",
       "      <th>TSLA</th>\n",
       "      <th>TSLA</th>\n",
       "      <th>TSLA</th>\n",
       "      <th>TSLA</th>\n",
       "      <th>TSLA</th>\n",
       "      <th>TSLA</th>\n",
       "    </tr>\n",
       "  </thead>\n",
       "  <tbody>\n",
       "    <tr>\n",
       "      <th>0</th>\n",
       "      <td>2010-06-29</td>\n",
       "      <td>1.592667</td>\n",
       "      <td>1.592667</td>\n",
       "      <td>1.666667</td>\n",
       "      <td>1.169333</td>\n",
       "      <td>1.266667</td>\n",
       "      <td>281494500</td>\n",
       "    </tr>\n",
       "    <tr>\n",
       "      <th>1</th>\n",
       "      <td>2010-06-30</td>\n",
       "      <td>1.588667</td>\n",
       "      <td>1.588667</td>\n",
       "      <td>2.028000</td>\n",
       "      <td>1.553333</td>\n",
       "      <td>1.719333</td>\n",
       "      <td>257806500</td>\n",
       "    </tr>\n",
       "    <tr>\n",
       "      <th>2</th>\n",
       "      <td>2010-07-01</td>\n",
       "      <td>1.464000</td>\n",
       "      <td>1.464000</td>\n",
       "      <td>1.728000</td>\n",
       "      <td>1.351333</td>\n",
       "      <td>1.666667</td>\n",
       "      <td>123282000</td>\n",
       "    </tr>\n",
       "    <tr>\n",
       "      <th>3</th>\n",
       "      <td>2010-07-02</td>\n",
       "      <td>1.280000</td>\n",
       "      <td>1.280000</td>\n",
       "      <td>1.540000</td>\n",
       "      <td>1.247333</td>\n",
       "      <td>1.533333</td>\n",
       "      <td>77097000</td>\n",
       "    </tr>\n",
       "    <tr>\n",
       "      <th>4</th>\n",
       "      <td>2010-07-06</td>\n",
       "      <td>1.074000</td>\n",
       "      <td>1.074000</td>\n",
       "      <td>1.333333</td>\n",
       "      <td>1.055333</td>\n",
       "      <td>1.333333</td>\n",
       "      <td>103003500</td>\n",
       "    </tr>\n",
       "    <tr>\n",
       "      <th>...</th>\n",
       "      <td>...</td>\n",
       "      <td>...</td>\n",
       "      <td>...</td>\n",
       "      <td>...</td>\n",
       "      <td>...</td>\n",
       "      <td>...</td>\n",
       "      <td>...</td>\n",
       "    </tr>\n",
       "    <tr>\n",
       "      <th>3604</th>\n",
       "      <td>2024-10-23</td>\n",
       "      <td>213.649994</td>\n",
       "      <td>213.649994</td>\n",
       "      <td>218.720001</td>\n",
       "      <td>212.110001</td>\n",
       "      <td>217.130005</td>\n",
       "      <td>80938900</td>\n",
       "    </tr>\n",
       "    <tr>\n",
       "      <th>3605</th>\n",
       "      <td>2024-10-24</td>\n",
       "      <td>260.480011</td>\n",
       "      <td>260.480011</td>\n",
       "      <td>262.119995</td>\n",
       "      <td>242.649994</td>\n",
       "      <td>244.679993</td>\n",
       "      <td>204491900</td>\n",
       "    </tr>\n",
       "    <tr>\n",
       "      <th>3606</th>\n",
       "      <td>2024-10-25</td>\n",
       "      <td>269.190002</td>\n",
       "      <td>269.190002</td>\n",
       "      <td>269.489990</td>\n",
       "      <td>255.320007</td>\n",
       "      <td>256.010010</td>\n",
       "      <td>161611900</td>\n",
       "    </tr>\n",
       "    <tr>\n",
       "      <th>3607</th>\n",
       "      <td>2024-10-28</td>\n",
       "      <td>262.510010</td>\n",
       "      <td>262.510010</td>\n",
       "      <td>273.540009</td>\n",
       "      <td>262.239990</td>\n",
       "      <td>270.000000</td>\n",
       "      <td>107653600</td>\n",
       "    </tr>\n",
       "    <tr>\n",
       "      <th>3608</th>\n",
       "      <td>2024-10-29</td>\n",
       "      <td>259.519989</td>\n",
       "      <td>259.519989</td>\n",
       "      <td>264.980011</td>\n",
       "      <td>255.509995</td>\n",
       "      <td>264.510010</td>\n",
       "      <td>80521800</td>\n",
       "    </tr>\n",
       "  </tbody>\n",
       "</table>\n",
       "<p>3609 rows × 7 columns</p>\n",
       "</div>"
      ],
      "text/plain": [
       "Price        Date   Adj Close       Close        High         Low        Open  \\\n",
       "Ticker                   TSLA        TSLA        TSLA        TSLA        TSLA   \n",
       "0      2010-06-29    1.592667    1.592667    1.666667    1.169333    1.266667   \n",
       "1      2010-06-30    1.588667    1.588667    2.028000    1.553333    1.719333   \n",
       "2      2010-07-01    1.464000    1.464000    1.728000    1.351333    1.666667   \n",
       "3      2010-07-02    1.280000    1.280000    1.540000    1.247333    1.533333   \n",
       "4      2010-07-06    1.074000    1.074000    1.333333    1.055333    1.333333   \n",
       "...           ...         ...         ...         ...         ...         ...   \n",
       "3604   2024-10-23  213.649994  213.649994  218.720001  212.110001  217.130005   \n",
       "3605   2024-10-24  260.480011  260.480011  262.119995  242.649994  244.679993   \n",
       "3606   2024-10-25  269.190002  269.190002  269.489990  255.320007  256.010010   \n",
       "3607   2024-10-28  262.510010  262.510010  273.540009  262.239990  270.000000   \n",
       "3608   2024-10-29  259.519989  259.519989  264.980011  255.509995  264.510010   \n",
       "\n",
       "Price      Volume  \n",
       "Ticker       TSLA  \n",
       "0       281494500  \n",
       "1       257806500  \n",
       "2       123282000  \n",
       "3        77097000  \n",
       "4       103003500  \n",
       "...           ...  \n",
       "3604     80938900  \n",
       "3605    204491900  \n",
       "3606    161611900  \n",
       "3607    107653600  \n",
       "3608     80521800  \n",
       "\n",
       "[3609 rows x 7 columns]"
      ]
     },
     "execution_count": 34,
     "metadata": {},
     "output_type": "execute_result"
    }
   ],
   "source": [
    "data.dropna(inplace=True)\n",
    "data"
   ]
  },
  {
   "cell_type": "code",
   "execution_count": 35,
   "id": "41975425-c915-4bc3-a681-03a93abc49af",
   "metadata": {},
   "outputs": [],
   "source": [
    "data_train = pd.DataFrame(data.Close[0: int(len(data)*0.80)])\n",
    "data_test = pd.DataFrame(data.Close[int(len(data)*0.80): len(data)])"
   ]
  },
  {
   "cell_type": "code",
   "execution_count": 36,
   "id": "514ebdd5-c1f9-4ad4-99de-95e712db25a2",
   "metadata": {},
   "outputs": [
    {
     "data": {
      "text/plain": [
       "2887"
      ]
     },
     "execution_count": 36,
     "metadata": {},
     "output_type": "execute_result"
    }
   ],
   "source": [
    "data_train.shape[0]"
   ]
  },
  {
   "cell_type": "code",
   "execution_count": 37,
   "id": "fcd25e9b-8080-4ff9-b744-955af54db507",
   "metadata": {},
   "outputs": [
    {
     "data": {
      "text/plain": [
       "722"
      ]
     },
     "execution_count": 37,
     "metadata": {},
     "output_type": "execute_result"
    }
   ],
   "source": [
    "data_test.shape[0]"
   ]
  },
  {
   "cell_type": "code",
   "execution_count": 38,
   "id": "a3d146bb-1d0c-4cac-8c70-ac49bf6d4f87",
   "metadata": {},
   "outputs": [],
   "source": [
    "from sklearn.preprocessing import MinMaxScaler\n",
    "scaler =MinMaxScaler(feature_range=(0,1))"
   ]
  },
  {
   "cell_type": "code",
   "execution_count": 39,
   "id": "9254ec71-6dd4-4baf-ad33-e529aa8751f7",
   "metadata": {},
   "outputs": [],
   "source": [
    "data_train_scale = scaler.fit_transform(data_train)"
   ]
  },
  {
   "cell_type": "code",
   "execution_count": 40,
   "id": "2fc65edc-1a24-47bb-ad37-62bbf575ac59",
   "metadata": {},
   "outputs": [],
   "source": [
    "x=[]\n",
    "y=[]\n",
    "\n",
    "for i in range(100, data_train_scale.shape[0]):\n",
    "    x.append(data_train_scale[i-100:i])\n",
    "    y.append(data_train_scale[i,0])"
   ]
  },
  {
   "cell_type": "code",
   "execution_count": 41,
   "id": "81de6fb4-19ab-46c9-8c1e-6208ce65a8d2",
   "metadata": {},
   "outputs": [],
   "source": [
    "x,y =np.array(x) ,np.array(y)"
   ]
  },
  {
   "cell_type": "code",
   "execution_count": 42,
   "id": "9e31240d-cd44-4f21-a0f7-2990018a5396",
   "metadata": {},
   "outputs": [],
   "source": [
    "from keras.layers import Dense, Dropout, LSTM\n",
    "from keras.models import Sequential"
   ]
  },
  {
   "cell_type": "code",
   "execution_count": 43,
   "id": "11a26354-c5a7-441b-9053-e8f3506fcaf7",
   "metadata": {},
   "outputs": [],
   "source": [
    "model= Sequential()\n",
    "model.add(LSTM(units =50, activation ='relu', return_sequences =True ,\n",
    "              input_shape =((x.shape[1],1))))\n",
    "model.add(Dropout(0.2))\n",
    "\n",
    "model.add(LSTM(units =60 , activation ='relu' , return_sequences= True))\n",
    "model.add(Dropout(0.3))\n",
    "\n",
    "model.add(LSTM(units =80 , activation ='relu' , return_sequences= True))\n",
    "model.add(Dropout(0.4))\n",
    "\n",
    "model.add(LSTM(units =120 , activation ='relu' , return_sequences= True))\n",
    "model.add(Dropout(0.5))\n",
    "\n",
    "model.add(Dense(units= 1))"
   ]
  },
  {
   "cell_type": "code",
   "execution_count": 44,
   "id": "5ae89df8-55a8-4b5a-8bfa-2a8c7ca44fba",
   "metadata": {},
   "outputs": [],
   "source": [
    "model.compile(optimizer = 'adam' ,loss ='mean_squared_error')"
   ]
  },
  {
   "cell_type": "code",
   "execution_count": 45,
   "id": "731482a1-b18d-4cca-aa8b-977d5dbdcdb5",
   "metadata": {},
   "outputs": [
    {
     "name": "stdout",
     "output_type": "stream",
     "text": [
      "Epoch 1/50\n",
      "88/88 [==============================] - 63s 561ms/step - loss: 0.0335\n",
      "Epoch 2/50\n",
      "88/88 [==============================] - 47s 536ms/step - loss: 0.0331\n",
      "Epoch 3/50\n",
      "88/88 [==============================] - 46s 524ms/step - loss: 0.0330\n",
      "Epoch 4/50\n",
      "88/88 [==============================] - 1041s 12s/step - loss: 0.0330\n",
      "Epoch 5/50\n",
      "88/88 [==============================] - 45s 509ms/step - loss: 0.0330\n",
      "Epoch 6/50\n",
      "88/88 [==============================] - 46s 527ms/step - loss: 0.0330\n",
      "Epoch 7/50\n",
      "88/88 [==============================] - 49s 557ms/step - loss: 0.0329\n",
      "Epoch 8/50\n",
      "88/88 [==============================] - 46s 524ms/step - loss: 0.0329\n",
      "Epoch 9/50\n",
      "88/88 [==============================] - 47s 537ms/step - loss: 0.0330\n",
      "Epoch 10/50\n",
      "88/88 [==============================] - 4175s 48s/step - loss: 0.0330\n",
      "Epoch 11/50\n",
      "88/88 [==============================] - 43s 487ms/step - loss: 0.0329\n",
      "Epoch 12/50\n",
      "88/88 [==============================] - 47s 529ms/step - loss: 0.0329\n",
      "Epoch 13/50\n",
      "88/88 [==============================] - 45s 516ms/step - loss: 0.0329\n",
      "Epoch 14/50\n",
      "88/88 [==============================] - 40s 451ms/step - loss: 0.0329\n",
      "Epoch 15/50\n",
      "88/88 [==============================] - 38s 437ms/step - loss: 0.0329\n",
      "Epoch 16/50\n",
      "88/88 [==============================] - 39s 438ms/step - loss: 0.0329\n",
      "Epoch 17/50\n",
      "88/88 [==============================] - 39s 437ms/step - loss: 0.0329\n",
      "Epoch 18/50\n",
      "88/88 [==============================] - 40s 450ms/step - loss: 0.0329\n",
      "Epoch 19/50\n",
      "88/88 [==============================] - 39s 440ms/step - loss: 0.0329\n",
      "Epoch 20/50\n",
      "88/88 [==============================] - 39s 444ms/step - loss: 0.0329\n",
      "Epoch 21/50\n",
      "88/88 [==============================] - 38s 435ms/step - loss: 0.0328\n",
      "Epoch 22/50\n",
      "88/88 [==============================] - 37s 421ms/step - loss: 0.0328\n",
      "Epoch 23/50\n",
      "88/88 [==============================] - 39s 442ms/step - loss: 0.0328\n",
      "Epoch 24/50\n",
      "88/88 [==============================] - 41s 462ms/step - loss: 0.0328\n",
      "Epoch 25/50\n",
      "88/88 [==============================] - 41s 463ms/step - loss: 0.0329\n",
      "Epoch 26/50\n",
      "88/88 [==============================] - 39s 445ms/step - loss: 0.0329\n",
      "Epoch 27/50\n",
      "88/88 [==============================] - 38s 430ms/step - loss: 0.0328\n",
      "Epoch 28/50\n",
      "88/88 [==============================] - 38s 430ms/step - loss: 0.0329\n",
      "Epoch 29/50\n",
      "88/88 [==============================] - 40s 459ms/step - loss: 0.0328\n",
      "Epoch 30/50\n",
      "88/88 [==============================] - 38s 426ms/step - loss: 0.0329\n",
      "Epoch 31/50\n",
      "88/88 [==============================] - 38s 432ms/step - loss: 0.0329\n",
      "Epoch 32/50\n",
      "88/88 [==============================] - 37s 423ms/step - loss: 0.0328\n",
      "Epoch 33/50\n",
      "88/88 [==============================] - 38s 430ms/step - loss: 0.0329\n",
      "Epoch 34/50\n",
      "88/88 [==============================] - 40s 457ms/step - loss: 0.0329\n",
      "Epoch 35/50\n",
      "88/88 [==============================] - 38s 427ms/step - loss: 0.0328\n",
      "Epoch 36/50\n",
      "88/88 [==============================] - 38s 435ms/step - loss: 0.0328\n",
      "Epoch 37/50\n",
      "88/88 [==============================] - 39s 439ms/step - loss: 0.0329\n",
      "Epoch 38/50\n",
      "88/88 [==============================] - 40s 451ms/step - loss: 0.0329\n",
      "Epoch 39/50\n",
      "88/88 [==============================] - 39s 447ms/step - loss: 0.0329\n",
      "Epoch 40/50\n",
      "88/88 [==============================] - 38s 428ms/step - loss: 0.0328\n",
      "Epoch 41/50\n",
      "88/88 [==============================] - 36s 404ms/step - loss: 0.0328\n",
      "Epoch 42/50\n",
      "88/88 [==============================] - 36s 407ms/step - loss: 0.0329\n",
      "Epoch 43/50\n",
      "88/88 [==============================] - 38s 432ms/step - loss: 0.0328\n",
      "Epoch 44/50\n",
      "88/88 [==============================] - 36s 404ms/step - loss: 0.0328\n",
      "Epoch 45/50\n",
      "88/88 [==============================] - 37s 419ms/step - loss: 0.0328\n",
      "Epoch 46/50\n",
      "88/88 [==============================] - 35s 394ms/step - loss: 0.0328\n",
      "Epoch 47/50\n",
      "88/88 [==============================] - 38s 429ms/step - loss: 0.0329\n",
      "Epoch 48/50\n",
      "88/88 [==============================] - 34s 385ms/step - loss: 0.0328\n",
      "Epoch 49/50\n",
      "88/88 [==============================] - 35s 394ms/step - loss: 0.0328\n",
      "Epoch 50/50\n",
      "88/88 [==============================] - 38s 426ms/step - loss: 0.0329\n"
     ]
    },
    {
     "data": {
      "text/plain": [
       "<keras.src.callbacks.History at 0x201849f6cd0>"
      ]
     },
     "execution_count": 45,
     "metadata": {},
     "output_type": "execute_result"
    }
   ],
   "source": [
    "model.fit(x,y, epochs =50 , batch_size =32 ,verbose =1)"
   ]
  },
  {
   "cell_type": "code",
   "execution_count": 46,
   "id": "da86a77d-2fe7-48c9-87d9-963f5be2dbe5",
   "metadata": {},
   "outputs": [
    {
     "name": "stdout",
     "output_type": "stream",
     "text": [
      "Model: \"sequential\"\n",
      "_________________________________________________________________\n",
      " Layer (type)                Output Shape              Param #   \n",
      "=================================================================\n",
      " lstm (LSTM)                 (None, 100, 50)           10400     \n",
      "                                                                 \n",
      " dropout (Dropout)           (None, 100, 50)           0         \n",
      "                                                                 \n",
      " lstm_1 (LSTM)               (None, 100, 60)           26640     \n",
      "                                                                 \n",
      " dropout_1 (Dropout)         (None, 100, 60)           0         \n",
      "                                                                 \n",
      " lstm_2 (LSTM)               (None, 100, 80)           45120     \n",
      "                                                                 \n",
      " dropout_2 (Dropout)         (None, 100, 80)           0         \n",
      "                                                                 \n",
      " lstm_3 (LSTM)               (None, 100, 120)          96480     \n",
      "                                                                 \n",
      " dropout_3 (Dropout)         (None, 100, 120)          0         \n",
      "                                                                 \n",
      " dense (Dense)               (None, 100, 1)            121       \n",
      "                                                                 \n",
      "=================================================================\n",
      "Total params: 178761 (698.29 KB)\n",
      "Trainable params: 178761 (698.29 KB)\n",
      "Non-trainable params: 0 (0.00 Byte)\n",
      "_________________________________________________________________\n"
     ]
    }
   ],
   "source": [
    "model.summary()"
   ]
  },
  {
   "cell_type": "code",
   "execution_count": 47,
   "id": "9db12925-eb03-4d1d-99c2-0ddab381ccb5",
   "metadata": {},
   "outputs": [],
   "source": [
    "pas_100_d =data_train.tail(100)"
   ]
  },
  {
   "cell_type": "code",
   "execution_count": 48,
   "id": "d5b08179-5e0e-41ad-b13f-4e7025e898e0",
   "metadata": {},
   "outputs": [],
   "source": [
    "data_test =pd.concat([pas_100_d, data_test], ignore_index =True)\n",
    "data_test_scale = scaler.fit_transform(data_test)"
   ]
  },
  {
   "cell_type": "code",
   "execution_count": 49,
   "id": "85bad205-36a4-4c6d-b618-97ab79b6ade1",
   "metadata": {},
   "outputs": [],
   "source": [
    "x=[]\n",
    "y=[]\n",
    "\n",
    "for i in range(100, data_test_scale.shape[0]):\n",
    "    x.append(data_test_scale[i-100:i])\n",
    "    y.append(data_test_scale[i,0])\n",
    "\n",
    "x,y =np.array(x), np.array(y)"
   ]
  },
  {
   "cell_type": "code",
   "execution_count": 50,
   "id": "cad71f5f-33ae-4e54-90d2-9e8029bd562b",
   "metadata": {},
   "outputs": [
    {
     "name": "stdout",
     "output_type": "stream",
     "text": [
      "23/23 [==============================] - 5s 136ms/step\n"
     ]
    }
   ],
   "source": [
    "y_predict =model.predict(x)"
   ]
  },
  {
   "cell_type": "code",
   "execution_count": 51,
   "id": "d4ebc011-42c3-4d04-9032-9e549de078d6",
   "metadata": {},
   "outputs": [],
   "source": [
    "scale =1/scaler.scale_"
   ]
  },
  {
   "cell_type": "code",
   "execution_count": 52,
   "id": "0f2f383a-3db3-41ec-a7bc-16be9108dd58",
   "metadata": {},
   "outputs": [],
   "source": [
    "y_predict = y_predict*scale"
   ]
  },
  {
   "cell_type": "code",
   "execution_count": 53,
   "id": "35062a95-4e60-4730-bb6a-68c34be9c032",
   "metadata": {},
   "outputs": [],
   "source": [
    "y =y*scale"
   ]
  },
  {
   "cell_type": "markdown",
   "id": "cd35a9be-6ff8-48bc-9079-5177dbe5d149",
   "metadata": {},
   "source": [
    "**in plotting graph**"
   ]
  },
  {
   "cell_type": "code",
   "execution_count": 62,
   "id": "bfd34c6a-e26f-4de1-ab29-260f4ab7a15b",
   "metadata": {
    "scrolled": true
   },
   "outputs": [
    {
     "name": "stdout",
     "output_type": "stream",
     "text": [
      "y_predict summary (before aggregation):\n",
      "Min: 28.79322475144221, Max: 34.766121413379665, Mean: 32.57597482574498, Std: 1.5574441658394858\n",
      "y summary:\n",
      "Min: 0.0, Max: 291.82666778564453, Mean: 123.14886108990191, Std: 53.46048411714148\n"
     ]
    },
    {
     "ename": "ValueError",
     "evalue": "cannot reshape array of size 72200 into shape (747,100)",
     "output_type": "error",
     "traceback": [
      "\u001b[1;31m---------------------------------------------------------------------------\u001b[0m",
      "\u001b[1;31mValueError\u001b[0m                                Traceback (most recent call last)",
      "Cell \u001b[1;32mIn[62], line 13\u001b[0m\n\u001b[0;32m      6\u001b[0m \u001b[38;5;28mprint\u001b[39m(\u001b[38;5;124mf\u001b[39m\u001b[38;5;124m\"\u001b[39m\u001b[38;5;124mMin: \u001b[39m\u001b[38;5;132;01m{\u001b[39;00my\u001b[38;5;241m.\u001b[39mmin()\u001b[38;5;132;01m}\u001b[39;00m\u001b[38;5;124m, Max: \u001b[39m\u001b[38;5;132;01m{\u001b[39;00my\u001b[38;5;241m.\u001b[39mmax()\u001b[38;5;132;01m}\u001b[39;00m\u001b[38;5;124m, Mean: \u001b[39m\u001b[38;5;132;01m{\u001b[39;00my\u001b[38;5;241m.\u001b[39mmean()\u001b[38;5;132;01m}\u001b[39;00m\u001b[38;5;124m, Std: \u001b[39m\u001b[38;5;132;01m{\u001b[39;00my\u001b[38;5;241m.\u001b[39mstd()\u001b[38;5;132;01m}\u001b[39;00m\u001b[38;5;124m\"\u001b[39m)\n\u001b[0;32m      8\u001b[0m \u001b[38;5;66;03m# Step 1: Aggregation of y_predict\u001b[39;00m\n\u001b[0;32m      9\u001b[0m \u001b[38;5;66;03m# Option 1: Use the first prediction from each time step\u001b[39;00m\n\u001b[0;32m     10\u001b[0m \u001b[38;5;66;03m#y_predict_flattened = y_predict[:, 0, 0]  # Shape (747,)\u001b[39;00m\n\u001b[0;32m     11\u001b[0m \n\u001b[0;32m     12\u001b[0m \u001b[38;5;66;03m# Option 2: Weighted average or median (alternative)\u001b[39;00m\n\u001b[1;32m---> 13\u001b[0m y_predict_flattened \u001b[38;5;241m=\u001b[39m np\u001b[38;5;241m.\u001b[39mmean(\u001b[43my_predict\u001b[49m\u001b[38;5;241;43m.\u001b[39;49m\u001b[43mreshape\u001b[49m\u001b[43m(\u001b[49m\u001b[38;5;241;43m747\u001b[39;49m\u001b[43m,\u001b[49m\u001b[43m \u001b[49m\u001b[38;5;241;43m100\u001b[39;49m\u001b[43m)\u001b[49m, axis\u001b[38;5;241m=\u001b[39m\u001b[38;5;241m1\u001b[39m)  \u001b[38;5;66;03m# Mean aggregation\u001b[39;00m\n\u001b[0;32m     14\u001b[0m y_predict_flattened \u001b[38;5;241m=\u001b[39m np\u001b[38;5;241m.\u001b[39mmedian(y_predict\u001b[38;5;241m.\u001b[39mreshape(\u001b[38;5;241m747\u001b[39m, \u001b[38;5;241m100\u001b[39m), axis\u001b[38;5;241m=\u001b[39m\u001b[38;5;241m1\u001b[39m)  \u001b[38;5;66;03m# Median aggregation\u001b[39;00m\n\u001b[0;32m     16\u001b[0m \u001b[38;5;66;03m# Debugging: Verify shapes and first few values\u001b[39;00m\n",
      "\u001b[1;31mValueError\u001b[0m: cannot reshape array of size 72200 into shape (747,100)"
     ]
    }
   ],
   "source": [
    "# Debugging: Print summary statistics\n",
    "print(\"y_predict summary (before aggregation):\")\n",
    "print(f\"Min: {y_predict.min()}, Max: {y_predict.max()}, Mean: {y_predict.mean()}, Std: {y_predict.std()}\")\n",
    "\n",
    "print(\"y summary:\")\n",
    "print(f\"Min: {y.min()}, Max: {y.max()}, Mean: {y.mean()}, Std: {y.std()}\")\n",
    "\n",
    "# Step 1: Aggregation of y_predict\n",
    "# Option 1: Use the first prediction from each time step\n",
    "#y_predict_flattened = y_predict[:, 0, 0]  # Shape (747,)\n",
    "\n",
    "# Option 2: Weighted average or median (alternative)\n",
    "y_predict_flattened = np.mean(y_predict.reshape(747, 100), axis=1)  # Mean aggregation\n",
    "y_predict_flattened = np.median(y_predict.reshape(747, 100), axis=1)  # Median aggregation\n",
    "\n",
    "# Debugging: Verify shapes and first few values\n",
    "print(\"Shape of y_predict_flattened:\", y_predict_flattened.shape)\n",
    "print(\"First 10 values of y_predict_flattened:\", y_predict_flattened[:10])\n",
    "print(\"First 10 values of y:\", y[:10])\n",
    "\n",
    "# Step 2: Normalize data (optional)\n",
    "y_predict_normalized = (y_predict_flattened - y_predict_flattened.min()) / (y_predict_flattened.max() - y_predict_flattened.min())\n",
    "y_normalized = (y - y.min()) / (y.max() - y.min())\n",
    "\n",
    "# Step 3: Plot\n",
    "plt.figure(figsize=(10, 8))\n",
    "\n",
    "# Plot normalized data for better comparison\n",
    "plt.plot(y_predict_normalized, 'r', label='Predicted Price (Normalized)')\n",
    "plt.plot(y_normalized, 'g', label='Original Price (Normalized)')\n",
    "\n",
    "# Finalize the plot\n",
    "plt.xlabel('Time')\n",
    "plt.ylabel('Price')\n",
    "plt.legend()\n",
    "plt.title('Improved Comparison of Predicted and Original Prices')\n",
    "plt.show()\n"
   ]
  },
  {
   "cell_type": "code",
   "execution_count": null,
   "id": "05f05bb8-d2af-4fca-9a4a-78e72dc1deab",
   "metadata": {},
   "outputs": [],
   "source": [
    "model.save('Stock Prediction1 Model TSLA.keras')"
   ]
  },
  {
   "cell_type": "markdown",
   "id": "9a7f4bd6-817e-442d-b97b-d007ea11eb7f",
   "metadata": {},
   "source": [
    "**end of code**\n",
    "**Thank you**"
   ]
  }
 ],
 "metadata": {
  "kernelspec": {
   "display_name": "Python 3 (ipykernel)",
   "language": "python",
   "name": "python3"
  },
  "language_info": {
   "codemirror_mode": {
    "name": "ipython",
    "version": 3
   },
   "file_extension": ".py",
   "mimetype": "text/x-python",
   "name": "python",
   "nbconvert_exporter": "python",
   "pygments_lexer": "ipython3",
   "version": "3.11.5"
  }
 },
 "nbformat": 4,
 "nbformat_minor": 5
}
